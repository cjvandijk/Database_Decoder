{
 "cells": [
  {
   "cell_type": "markdown",
   "metadata": {},
   "source": [
    "# Database Decoder\n",
    "Returns basic details about any Postgresql database for which you may not have any schema infomation. It lists the non-internal tables, along with their column names, data types, and internal lengths. Each table also shows the total number of rows, and has a sampling of 5 rows of data."
   ]
  },
  {
   "cell_type": "markdown",
   "metadata": {},
   "source": [
    "#### Modules"
   ]
  },
  {
   "cell_type": "code",
   "execution_count": 2,
   "metadata": {},
   "outputs": [],
   "source": [
    "import psycopg2\n",
    "import pprint\n",
    "from psycopg2.extensions import AsIs"
   ]
  },
  {
   "cell_type": "markdown",
   "metadata": {},
   "source": [
    "#### Request database details and create connection and cursor objects"
   ]
  },
  {
   "cell_type": "code",
   "execution_count": null,
   "metadata": {},
   "outputs": [],
   "source": [
    "db_name = input(\"Database name: \")\n",
    "db_user = input(\"Sign-in user: \")\n",
    "db_pwd = input(\"User password: \")\n",
    "conn = psycopg2.connect(database=db_name, user=db_user, password=db_pwd)\n",
    "cur = conn.cursor()\n",
    "print(conn)"
   ]
  },
  {
   "cell_type": "markdown",
   "metadata": {},
   "source": [
    "#### Get list of tables in the database\n",
    "Internal tables are omitted.<br>\n",
    "table_names is a tuple of all table names in the database"
   ]
  },
  {
   "cell_type": "code",
   "execution_count": 2,
   "metadata": {},
   "outputs": [],
   "source": [
    " # Use information schema to select all public (user-created) tables\n",
    "cur.execute(\"\"\"\n",
    "SELECT table_name \n",
    "FROM information_schema.tables \n",
    "WHERE table_schema = 'public'\n",
    "ORDER BY table_name;\n",
    "\"\"\")\n",
    "table_names = cur.fetchall()"
   ]
  },
  {
   "cell_type": "markdown",
   "metadata": {},
   "source": [
    "#### Data Type Code Map\n",
    "Create dictionary containing data type codes mapped to human readable data types. This dictionary is used to list each column's data type as a string rather than the default integer."
   ]
  },
  {
   "cell_type": "code",
   "execution_count": 3,
   "metadata": {},
   "outputs": [],
   "source": [
    "cur.execute(\"SELECT oid, typname FROM pg_catalog.pg_type\")\n",
    "rawtypes = cur.fetchall()\n",
    "readable_types = {}\n",
    "    \n",
    "for type_pair in rawtypes:\n",
    "    readable_types[type_pair[0]] = type_pair[1]"
   ]
  },
  {
   "cell_type": "markdown",
   "metadata": {},
   "source": [
    "#### Column Details\n",
    "Go thru tables and create a nested dictionary containing each table's column names, data types, and internal sizes. <p>Dictionary format:\n",
    "<pre>\n",
    "  { 'tbl1': { 'columns': [ { 'internal_size': 4,\n",
    "                             'name': 'id',\n",
    "                             'type': 'int4'},\n",
    "                           { 'internal_size': 4,\n",
    "                             'name': 'fname',\n",
    "                             'type': 'str'},  ...\n",
    "</pre>"
   ]
  },
  {
   "cell_type": "code",
   "execution_count": 4,
   "metadata": {},
   "outputs": [],
   "source": [
    "db_dict = {}\n",
    "for tname in table_names:\n",
    "    column_deets[tname] = {}\n",
    "    column_deets[tname][\"columns\"] = [{}]\n",
    "    \n",
    "    #get table descriptor data\n",
    "    sql = cur.mogrify(\"SELECT * FROM %s LIMIT 0\", [AsIs(tname)])\n",
    "    cur.execute(sql)\n",
    "    tdesc = cur.description\n",
    "    for x in range(0, len(tdesc)):\n",
    "        if x > 0:\n",
    "            db_dict[tname][\"columns\"].append({})\n",
    "        db_dict[tname][\"columns\"][x][\"name\"] = tdesc[x][0]\n",
    "        int_type = tdesc[x][1]\n",
    "        db_dict[tname][\"columns\"][x][\"type\"] = readable_types[int_type]\n",
    "        db_dict[tname][\"columns\"][x][\"internal_size\"] = tdesc[x][3]"
   ]
  },
  {
   "cell_type": "markdown",
   "metadata": {},
   "source": [
    "#### Table Rows\n",
    "It's useful to know how large each table is. Add a key to db_dict that holds the number of rows for each table in the dictionary.\n",
    "<p>Dictionary format:\n",
    "<pre>\n",
    "  { 'tbl1': { 'columns': [ { 'internal_size': 4,\n",
    "                             'name': 'id',\n",
    "                             'type': 'int4'},\n",
    "                           { 'internal_size': 4,  ...\n",
    "              'total': 86529},   ...\n",
    "</pre>"
   ]
  },
  {
   "cell_type": "code",
   "execution_count": 5,
   "metadata": {},
   "outputs": [],
   "source": [
    "for key in db_dict:\n",
    "    sql = cur.mogrify(\"SELECT COUNT(*) FROM %s\", [AsIs(key)])\n",
    "    cur.execute(sql)\n",
    "    rowcount=cur.fetchone()[0]\n",
    "    db_dict[key][\"total\"] = rowcount"
   ]
  },
  {
   "cell_type": "markdown",
   "metadata": {},
   "source": [
    "#### Sample Data\n",
    "It's also nice to see a few examples of the data in the table. Add a key to the dictionary that shows 5 rows from each table.\n",
    "<p>Dictionary format:\n",
    "<pre>\n",
    "  { 'tbl1': { 'columns': [ { 'internal_size': 4,\n",
    "                             'name': 'id',\n",
    "                             'type': 'int4'},\n",
    "                           { 'internal_size': 4,  ...\n",
    "              'sample_rows': [ ( 1,\n",
    "                                  datetime.date(2010, 5, 12),\n",
    "                                  'a string', ... ) ],\n",
    "              'total': 86529},   ...\n",
    "</pre>"
   ]
  },
  {
   "cell_type": "code",
   "execution_count": 6,
   "metadata": {},
   "outputs": [],
   "source": [
    "for tbl in db_dict:\n",
    "    sql = cur.mogrify(\"SELECT * FROM %s LIMIT 5\", [AsIs(tbl)])\n",
    "    cur.execute(sql)\n",
    "    sample_rows = cur.fetchall()\n",
    "    db_dict[tbl][\"sample_rows\"] = sample_rows"
   ]
  },
  {
   "cell_type": "markdown",
   "metadata": {},
   "source": [
    "#### Display Dictionary\n",
    "The **pprint** module provides **`pprint(db_dictionary)`** to get a tree display. "
   ]
  },
  {
   "cell_type": "code",
   "execution_count": 3,
   "metadata": {},
   "outputs": [],
   "source": [
    "import pprint\n",
    "pp = pprint.PrettyPrinter(indent=2)\n",
    "pp.pprint(hurricane_info)\n",
    "\n",
    "conn.close()"
   ]
  }
 ],
 "metadata": {
  "kernelspec": {
   "display_name": "Python 3",
   "language": "python",
   "name": "python3"
  },
  "language_info": {
   "codemirror_mode": {
    "name": "ipython",
    "version": 3
   },
   "file_extension": ".py",
   "mimetype": "text/x-python",
   "name": "python",
   "nbconvert_exporter": "python",
   "pygments_lexer": "ipython3",
   "version": "3.6.6"
  }
 },
 "nbformat": 4,
 "nbformat_minor": 2
}
